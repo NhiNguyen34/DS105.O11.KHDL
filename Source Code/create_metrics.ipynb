{
 "cells": [
  {
   "cell_type": "code",
   "execution_count": 1,
   "id": "5c6b4887-d6fb-4130-9deb-7239c9564eee",
   "metadata": {},
   "outputs": [],
   "source": [
    "import pandas as pd\n",
    "import numpy as np"
   ]
  },
  {
   "cell_type": "code",
   "execution_count": 2,
   "id": "9be75d59-0fcf-4abf-902c-b1f21440e12a",
   "metadata": {},
   "outputs": [],
   "source": [
    "df = pd.read_csv(\"Ds105_612.csv\")\n",
    "# df.drop(\"Unnamed: 0\", axis=1, inplace=True)\n",
    "# df.to_csv(\"Ds105_612.csv\", index=False)"
   ]
  },
  {
   "cell_type": "code",
   "execution_count": 3,
   "id": "e3e4f3dc-90be-49e3-9715-d34df6642b8e",
   "metadata": {},
   "outputs": [],
   "source": [
    "import pandas as pd\n",
    "import unicodedata\n",
    "\n",
    "# Giả sử df là DataFrame của bạn và \"Main_Feature\" là tên của cột cần xử lý\n",
    "# df = ...\n",
    "\n",
    "# Định nghĩa hàm áp dụng cho từng giá trị trong cột\n",
    "def normalize_column(value):\n",
    "    return unicodedata.normalize(\"NFD\", str(value))\n",
    "\n",
    "# Áp dụng hàm cho cột \"Main_Feature\"\n",
    "df[\"Main_Feature\"] = df[\"Main_Feature\"].apply(normalize_column)"
   ]
  },
  {
   "cell_type": "code",
   "execution_count": 137,
   "id": "4538ee4b-ff21-4b80-a35a-cd65e9c6daa9",
   "metadata": {
    "collapsed": true,
    "jupyter": {
     "outputs_hidden": true
    },
    "tags": []
   },
   "outputs": [
    {
     "name": "stdout",
     "output_type": "stream",
     "text": [
      "2002 |Tổng số thuộc tính có: 5\n",
      "2003 |Tổng số thuộc tính có: 4\n",
      "2004 |Tổng số thuộc tính có: 6\n",
      "2005 |Tổng số thuộc tính có: 14\n",
      "2006 |Tổng số thuộc tính có: 9\n",
      "2007 |Tổng số thuộc tính có: 13\n",
      "2008 |Tổng số thuộc tính có: 14\n",
      "2009 |Tổng số thuộc tính có: 14\n",
      "2010 |Tổng số thuộc tính có: 22\n",
      "2011 |Tổng số thuộc tính có: 13\n",
      "2012 |Tổng số thuộc tính có: 20\n",
      "2013 |Tổng số thuộc tính có: 18\n",
      "2014 |Tổng số thuộc tính có: 25\n",
      "2015 |Tổng số thuộc tính có: 19\n",
      "2016 |Tổng số thuộc tính có: 27\n",
      "2017 |Tổng số thuộc tính có: 18\n",
      "2018 |Tổng số thuộc tính có: 33\n",
      "2019 |Tổng số thuộc tính có: 31\n",
      "2020 |Tổng số thuộc tính có: 34\n",
      "2021 |Tổng số thuộc tính có: 38\n",
      "Sơ bộ 2021 |Tổng số thuộc tính có: 3\n",
      "2022 |Tổng số thuộc tính có: 13\n",
      "Sơ bộ 2022 |Tổng số thuộc tính có: 33\n"
     ]
    }
   ],
   "source": [
    "for year in df.columns[3:]:\n",
    "    non_zero = np.count_nonzero(df.groupby(\"Main_Feature\")[year].count().values)\n",
    "    print(year, \"|Tổng số thuộc tính có:\", non_zero)"
   ]
  },
  {
   "cell_type": "code",
   "execution_count": 7,
   "id": "6f8bfabd",
   "metadata": {},
   "outputs": [
    {
     "data": {
      "text/html": [
       "<div>\n",
       "<style scoped>\n",
       "    .dataframe tbody tr th:only-of-type {\n",
       "        vertical-align: middle;\n",
       "    }\n",
       "\n",
       "    .dataframe tbody tr th {\n",
       "        vertical-align: top;\n",
       "    }\n",
       "\n",
       "    .dataframe thead th {\n",
       "        text-align: right;\n",
       "    }\n",
       "</style>\n",
       "<table border=\"1\" class=\"dataframe\">\n",
       "  <thead>\n",
       "    <tr style=\"text-align: right;\">\n",
       "      <th></th>\n",
       "      <th>Main_Feature</th>\n",
       "      <th>Province</th>\n",
       "      <th>Sub_Feature</th>\n",
       "      <th>2002</th>\n",
       "      <th>2003</th>\n",
       "      <th>2004</th>\n",
       "      <th>2005</th>\n",
       "      <th>2006</th>\n",
       "      <th>2007</th>\n",
       "      <th>2008</th>\n",
       "      <th>...</th>\n",
       "      <th>2015</th>\n",
       "      <th>2016</th>\n",
       "      <th>2017</th>\n",
       "      <th>2018</th>\n",
       "      <th>2019</th>\n",
       "      <th>2020</th>\n",
       "      <th>2021</th>\n",
       "      <th>Sơ bộ 2021</th>\n",
       "      <th>2022</th>\n",
       "      <th>Sơ bộ 2022</th>\n",
       "    </tr>\n",
       "  </thead>\n",
       "  <tbody>\n",
       "    <tr>\n",
       "      <th>7600</th>\n",
       "      <td>Số cơ sở khám, chữa bệnh trực thuo...</td>\n",
       "      <td>CẢ NƯỚC</td>\n",
       "      <td>Bệnh viện</td>\n",
       "      <td>NaN</td>\n",
       "      <td>NaN</td>\n",
       "      <td>NaN</td>\n",
       "      <td>12372</td>\n",
       "      <td>12420</td>\n",
       "      <td>12626</td>\n",
       "      <td>12670</td>\n",
       "      <td>...</td>\n",
       "      <td>NaN</td>\n",
       "      <td>NaN</td>\n",
       "      <td>NaN</td>\n",
       "      <td>NaN</td>\n",
       "      <td>NaN</td>\n",
       "      <td>NaN</td>\n",
       "      <td>NaN</td>\n",
       "      <td>NaN</td>\n",
       "      <td>NaN</td>\n",
       "      <td>NaN</td>\n",
       "    </tr>\n",
       "    <tr>\n",
       "      <th>7601</th>\n",
       "      <td>Số cơ sở khám, chữa bệnh trực thuo...</td>\n",
       "      <td>Đồng bằng sông Hồng</td>\n",
       "      <td>Bệnh viện</td>\n",
       "      <td>NaN</td>\n",
       "      <td>NaN</td>\n",
       "      <td>NaN</td>\n",
       "      <td>2756</td>\n",
       "      <td>2748</td>\n",
       "      <td>2758</td>\n",
       "      <td>2763</td>\n",
       "      <td>...</td>\n",
       "      <td>NaN</td>\n",
       "      <td>NaN</td>\n",
       "      <td>NaN</td>\n",
       "      <td>NaN</td>\n",
       "      <td>NaN</td>\n",
       "      <td>NaN</td>\n",
       "      <td>NaN</td>\n",
       "      <td>NaN</td>\n",
       "      <td>NaN</td>\n",
       "      <td>NaN</td>\n",
       "    </tr>\n",
       "    <tr>\n",
       "      <th>7602</th>\n",
       "      <td>Số cơ sở khám, chữa bệnh trực thuo...</td>\n",
       "      <td>Hà Nội</td>\n",
       "      <td>Bệnh viện</td>\n",
       "      <td>NaN</td>\n",
       "      <td>NaN</td>\n",
       "      <td>NaN</td>\n",
       "      <td>280</td>\n",
       "      <td>277</td>\n",
       "      <td>281</td>\n",
       "      <td>665</td>\n",
       "      <td>...</td>\n",
       "      <td>NaN</td>\n",
       "      <td>NaN</td>\n",
       "      <td>NaN</td>\n",
       "      <td>NaN</td>\n",
       "      <td>NaN</td>\n",
       "      <td>NaN</td>\n",
       "      <td>NaN</td>\n",
       "      <td>NaN</td>\n",
       "      <td>NaN</td>\n",
       "      <td>NaN</td>\n",
       "    </tr>\n",
       "    <tr>\n",
       "      <th>7603</th>\n",
       "      <td>Số cơ sở khám, chữa bệnh trực thuo...</td>\n",
       "      <td>Hà Tây</td>\n",
       "      <td>Bệnh viện</td>\n",
       "      <td>NaN</td>\n",
       "      <td>NaN</td>\n",
       "      <td>NaN</td>\n",
       "      <td>360</td>\n",
       "      <td>356</td>\n",
       "      <td>356</td>\n",
       "      <td>..</td>\n",
       "      <td>...</td>\n",
       "      <td>NaN</td>\n",
       "      <td>NaN</td>\n",
       "      <td>NaN</td>\n",
       "      <td>NaN</td>\n",
       "      <td>NaN</td>\n",
       "      <td>NaN</td>\n",
       "      <td>NaN</td>\n",
       "      <td>NaN</td>\n",
       "      <td>NaN</td>\n",
       "      <td>NaN</td>\n",
       "    </tr>\n",
       "    <tr>\n",
       "      <th>7604</th>\n",
       "      <td>Số cơ sở khám, chữa bệnh trực thuo...</td>\n",
       "      <td>Vĩnh Phúc</td>\n",
       "      <td>Bệnh viện</td>\n",
       "      <td>NaN</td>\n",
       "      <td>NaN</td>\n",
       "      <td>NaN</td>\n",
       "      <td>175</td>\n",
       "      <td>175</td>\n",
       "      <td>177</td>\n",
       "      <td>158</td>\n",
       "      <td>...</td>\n",
       "      <td>NaN</td>\n",
       "      <td>NaN</td>\n",
       "      <td>NaN</td>\n",
       "      <td>NaN</td>\n",
       "      <td>NaN</td>\n",
       "      <td>NaN</td>\n",
       "      <td>NaN</td>\n",
       "      <td>NaN</td>\n",
       "      <td>NaN</td>\n",
       "      <td>NaN</td>\n",
       "    </tr>\n",
       "    <tr>\n",
       "      <th>...</th>\n",
       "      <td>...</td>\n",
       "      <td>...</td>\n",
       "      <td>...</td>\n",
       "      <td>...</td>\n",
       "      <td>...</td>\n",
       "      <td>...</td>\n",
       "      <td>...</td>\n",
       "      <td>...</td>\n",
       "      <td>...</td>\n",
       "      <td>...</td>\n",
       "      <td>...</td>\n",
       "      <td>...</td>\n",
       "      <td>...</td>\n",
       "      <td>...</td>\n",
       "      <td>...</td>\n",
       "      <td>...</td>\n",
       "      <td>...</td>\n",
       "      <td>...</td>\n",
       "      <td>...</td>\n",
       "      <td>...</td>\n",
       "      <td>...</td>\n",
       "    </tr>\n",
       "    <tr>\n",
       "      <th>7950</th>\n",
       "      <td>Số cơ sở khám, chữa bệnh trực thuo...</td>\n",
       "      <td>Cần Thơ</td>\n",
       "      <td>NaN</td>\n",
       "      <td>NaN</td>\n",
       "      <td>NaN</td>\n",
       "      <td>NaN</td>\n",
       "      <td>NaN</td>\n",
       "      <td>NaN</td>\n",
       "      <td>NaN</td>\n",
       "      <td>NaN</td>\n",
       "      <td>...</td>\n",
       "      <td>NaN</td>\n",
       "      <td>NaN</td>\n",
       "      <td>NaN</td>\n",
       "      <td>NaN</td>\n",
       "      <td>NaN</td>\n",
       "      <td>NaN</td>\n",
       "      <td>NaN</td>\n",
       "      <td>NaN</td>\n",
       "      <td>NaN</td>\n",
       "      <td>NaN</td>\n",
       "    </tr>\n",
       "    <tr>\n",
       "      <th>7951</th>\n",
       "      <td>Số cơ sở khám, chữa bệnh trực thuo...</td>\n",
       "      <td>Hậu Giang</td>\n",
       "      <td>NaN</td>\n",
       "      <td>NaN</td>\n",
       "      <td>NaN</td>\n",
       "      <td>NaN</td>\n",
       "      <td>NaN</td>\n",
       "      <td>NaN</td>\n",
       "      <td>NaN</td>\n",
       "      <td>NaN</td>\n",
       "      <td>...</td>\n",
       "      <td>NaN</td>\n",
       "      <td>NaN</td>\n",
       "      <td>NaN</td>\n",
       "      <td>NaN</td>\n",
       "      <td>NaN</td>\n",
       "      <td>NaN</td>\n",
       "      <td>NaN</td>\n",
       "      <td>NaN</td>\n",
       "      <td>NaN</td>\n",
       "      <td>NaN</td>\n",
       "    </tr>\n",
       "    <tr>\n",
       "      <th>7952</th>\n",
       "      <td>Số cơ sở khám, chữa bệnh trực thuo...</td>\n",
       "      <td>Sóc Trăng</td>\n",
       "      <td>NaN</td>\n",
       "      <td>NaN</td>\n",
       "      <td>NaN</td>\n",
       "      <td>NaN</td>\n",
       "      <td>NaN</td>\n",
       "      <td>NaN</td>\n",
       "      <td>NaN</td>\n",
       "      <td>NaN</td>\n",
       "      <td>...</td>\n",
       "      <td>NaN</td>\n",
       "      <td>NaN</td>\n",
       "      <td>NaN</td>\n",
       "      <td>NaN</td>\n",
       "      <td>NaN</td>\n",
       "      <td>NaN</td>\n",
       "      <td>NaN</td>\n",
       "      <td>NaN</td>\n",
       "      <td>NaN</td>\n",
       "      <td>NaN</td>\n",
       "    </tr>\n",
       "    <tr>\n",
       "      <th>7953</th>\n",
       "      <td>Số cơ sở khám, chữa bệnh trực thuo...</td>\n",
       "      <td>Bạc Liêu</td>\n",
       "      <td>NaN</td>\n",
       "      <td>NaN</td>\n",
       "      <td>NaN</td>\n",
       "      <td>NaN</td>\n",
       "      <td>NaN</td>\n",
       "      <td>NaN</td>\n",
       "      <td>NaN</td>\n",
       "      <td>NaN</td>\n",
       "      <td>...</td>\n",
       "      <td>NaN</td>\n",
       "      <td>NaN</td>\n",
       "      <td>NaN</td>\n",
       "      <td>NaN</td>\n",
       "      <td>NaN</td>\n",
       "      <td>NaN</td>\n",
       "      <td>NaN</td>\n",
       "      <td>NaN</td>\n",
       "      <td>NaN</td>\n",
       "      <td>NaN</td>\n",
       "    </tr>\n",
       "    <tr>\n",
       "      <th>7954</th>\n",
       "      <td>Số cơ sở khám, chữa bệnh trực thuo...</td>\n",
       "      <td>Cà Mau</td>\n",
       "      <td>NaN</td>\n",
       "      <td>NaN</td>\n",
       "      <td>NaN</td>\n",
       "      <td>NaN</td>\n",
       "      <td>NaN</td>\n",
       "      <td>NaN</td>\n",
       "      <td>NaN</td>\n",
       "      <td>NaN</td>\n",
       "      <td>...</td>\n",
       "      <td>NaN</td>\n",
       "      <td>NaN</td>\n",
       "      <td>NaN</td>\n",
       "      <td>NaN</td>\n",
       "      <td>NaN</td>\n",
       "      <td>NaN</td>\n",
       "      <td>NaN</td>\n",
       "      <td>NaN</td>\n",
       "      <td>NaN</td>\n",
       "      <td>NaN</td>\n",
       "    </tr>\n",
       "  </tbody>\n",
       "</table>\n",
       "<p>355 rows × 26 columns</p>\n",
       "</div>"
      ],
      "text/plain": [
       "                                           Main_Feature             Province  \\\n",
       "7600  Số cơ sở khám, chữa bệnh trực thuo...              CẢ NƯỚC   \n",
       "7601  Số cơ sở khám, chữa bệnh trực thuo...  Đồng bằng sông Hồng   \n",
       "7602  Số cơ sở khám, chữa bệnh trực thuo...               Hà Nội   \n",
       "7603  Số cơ sở khám, chữa bệnh trực thuo...               Hà Tây   \n",
       "7604  Số cơ sở khám, chữa bệnh trực thuo...            Vĩnh Phúc   \n",
       "...                                                 ...                  ...   \n",
       "7950  Số cơ sở khám, chữa bệnh trực thuo...              Cần Thơ   \n",
       "7951  Số cơ sở khám, chữa bệnh trực thuo...            Hậu Giang   \n",
       "7952  Số cơ sở khám, chữa bệnh trực thuo...            Sóc Trăng   \n",
       "7953  Số cơ sở khám, chữa bệnh trực thuo...             Bạc Liêu   \n",
       "7954  Số cơ sở khám, chữa bệnh trực thuo...               Cà Mau   \n",
       "\n",
       "     Sub_Feature 2002 2003 2004   2005   2006   2007   2008  ... 2015 2016  \\\n",
       "7600   Bệnh viện  NaN  NaN  NaN  12372  12420  12626  12670  ...  NaN  NaN   \n",
       "7601   Bệnh viện  NaN  NaN  NaN   2756   2748   2758   2763  ...  NaN  NaN   \n",
       "7602   Bệnh viện  NaN  NaN  NaN    280    277    281    665  ...  NaN  NaN   \n",
       "7603   Bệnh viện  NaN  NaN  NaN    360    356    356     ..  ...  NaN  NaN   \n",
       "7604   Bệnh viện  NaN  NaN  NaN    175    175    177    158  ...  NaN  NaN   \n",
       "...          ...  ...  ...  ...    ...    ...    ...    ...  ...  ...  ...   \n",
       "7950         NaN  NaN  NaN  NaN    NaN    NaN    NaN    NaN  ...  NaN  NaN   \n",
       "7951         NaN  NaN  NaN  NaN    NaN    NaN    NaN    NaN  ...  NaN  NaN   \n",
       "7952         NaN  NaN  NaN  NaN    NaN    NaN    NaN    NaN  ...  NaN  NaN   \n",
       "7953         NaN  NaN  NaN  NaN    NaN    NaN    NaN    NaN  ...  NaN  NaN   \n",
       "7954         NaN  NaN  NaN  NaN    NaN    NaN    NaN    NaN  ...  NaN  NaN   \n",
       "\n",
       "     2017 2018 2019 2020 2021 Sơ bộ 2021 2022 Sơ bộ 2022  \n",
       "7600  NaN  NaN  NaN  NaN  NaN        NaN  NaN        NaN  \n",
       "7601  NaN  NaN  NaN  NaN  NaN        NaN  NaN        NaN  \n",
       "7602  NaN  NaN  NaN  NaN  NaN        NaN  NaN        NaN  \n",
       "7603  NaN  NaN  NaN  NaN  NaN        NaN  NaN        NaN  \n",
       "7604  NaN  NaN  NaN  NaN  NaN        NaN  NaN        NaN  \n",
       "...   ...  ...  ...  ...  ...        ...  ...        ...  \n",
       "7950  NaN  NaN  NaN  NaN  NaN        NaN  NaN        NaN  \n",
       "7951  NaN  NaN  NaN  NaN  NaN        NaN  NaN        NaN  \n",
       "7952  NaN  NaN  NaN  NaN  NaN        NaN  NaN        NaN  \n",
       "7953  NaN  NaN  NaN  NaN  NaN        NaN  NaN        NaN  \n",
       "7954  NaN  NaN  NaN  NaN  NaN        NaN  NaN        NaN  \n",
       "\n",
       "[355 rows x 26 columns]"
      ]
     },
     "execution_count": 7,
     "metadata": {},
     "output_type": "execute_result"
    }
   ],
   "source": [
    "df[df.Main_Feature == df.Main_Feature.unique()[-1]]"
   ]
  },
  {
   "cell_type": "code",
   "execution_count": 100,
   "id": "2ff360fa-7f72-4f26-b22f-3687e13067de",
   "metadata": {},
   "outputs": [],
   "source": [
    "other = ['CẢ NƯỚC', \"Đồng bằng sông Hồng\", 'Trung du và miền núi phía Bắc', 'Bắc Trung Bộ và Duyên hải miền Trung','Đồng bằng sông Cửu Long', 'Đông Nam Bộ', \"Tây Nguyên\"] "
   ]
  },
  {
   "cell_type": "markdown",
   "id": "2a63bc86-2578-433b-ba21-acbb403fdcf6",
   "metadata": {
    "jp-MarkdownHeadingCollapsed": true,
    "tags": []
   },
   "source": [
    "## Y tế"
   ]
  },
  {
   "cell_type": "code",
   "execution_count": 264,
   "id": "43f5711e-1579-4e02-9387-1adf2b7ce52f",
   "metadata": {},
   "outputs": [],
   "source": [
    "y_te = [\n",
    "    'Số bác sĩ phân theo địa phương',\n",
    "    \"Tỷ lệ trẻ em dưới một tuổi được tiêm chủng đầy đủ các loại vắc xin phân theo địa phương chia theo Địa phương và Năm\",\n",
    "    \"Số cơ sở khám, chữa bệnh trực thuộc sở Y tế phân theo địa phương\",\n",
    "    \"Số giường bệnh phân theo địa phương\",\n",
    "    \"Số giường bệnh trực thuộc sở Y tế phân theo địa phương\",\n",
    "    \"Số người nhiễm HIVAIDS phân theo địa phương chia theo Địa phương, Năm và Phân tổ\",\n",
    "    \"Số người nhiễm HIVAIDS và số người chết do AIDS phân theo địa phương\",\n",
    "    \"Số nhân lực ngành dược trực thuộc sở Y tế phân theo địa phương\",\n",
    "    \"Số nhân lực ngành Y trực thuộc sở Y tế phân theo địa phương\",\n",
    "    \"Tỷ lệ trẻ em dưới 5 tuổi bị suy dinh dưỡng phân theo địa phương chia theo Địa phương, Năm và Phân tổ\",\n",
    "    \"Tỷ suất sinh thô, tỷ suất chết thô và tỷ lệ tăng tự nhiên của dân số phân theo địa phương chia theo Địa phương, Phân tổ và Năm\",\n",
    "    \"Tỷ suất chết của trẻ em dưới 5 tuổi phân theo địa phương chia theo Tỉnh-Thành phố và Năm\",\n",
    "    \"Tỷ suất chết của trẻ em dưới 1 tuổi phân theo địa phương chia theo Địa phương và Năm\",\n",
    "    \"Tỷ lệ trẻ em dưới 05 tuổi được đăng ký khai sinh phân theo địa phương chia theo Tỉnh-Thành phố và Năm\",\n",
    "    \"Tỷ lệ tăng dân số phân theo địa phương chia theo Tỉnh-Thành phố và Năm\",\n",
    "    \"Tuổi thọ trung bình tính từ lúc sinh phân theo địa phương chia theo Tỉnh-Thành phố và Năm\",\n",
    "    \"Tổng tỷ suất sinh phân theo địa phương chia theo Địa phương và Năm\"\n",
    "]\n",
    "y_te = [normalize_column(i) for i in y_te]"
   ]
  },
  {
   "cell_type": "code",
   "execution_count": 265,
   "id": "af31e062-cf59-4e5b-bb92-55b0d8d2c9f9",
   "metadata": {},
   "outputs": [],
   "source": [
    "y_te = np.array(y_te)"
   ]
  },
  {
   "cell_type": "code",
   "execution_count": 272,
   "id": "619df621-7047-43e0-b86b-760607b82dba",
   "metadata": {},
   "outputs": [],
   "source": [
    "test = df[df.Main_Feature.isin(y_te)]"
   ]
  },
  {
   "cell_type": "code",
   "execution_count": 280,
   "id": "4a7ef57f-79eb-4c7c-a21b-753c843ba512",
   "metadata": {},
   "outputs": [],
   "source": [
    "# test.to_csv(\"y_te_metric.csv\", index=False)"
   ]
  },
  {
   "cell_type": "markdown",
   "id": "707cb831-0871-4daf-accf-3a82bf0d7119",
   "metadata": {
    "jp-MarkdownHeadingCollapsed": true,
    "tags": []
   },
   "source": [
    "## An ninh trật tự"
   ]
  },
  {
   "cell_type": "code",
   "execution_count": 302,
   "id": "50603e3f-a38a-4ac8-a303-e883e34b58e4",
   "metadata": {},
   "outputs": [],
   "source": [
    "antt = [\n",
    "    \"Một số chỉ tiêu về tai nạn giao thông phân theo địa phương chia theo Địa phương, Năm và Chỉ tiêu\",\n",
    "    \"Một số chỉ tiêu về vụ cháy, nổ phân theo địa phương chia theo Địa phương, Năm và Chỉ tiêu\",\n",
    "    \"Số vụ án và bị cáo đã xét xử sở thẩm phân theo địa phương chia theo Địa phương, Năm và Chỉ tiêu\",\n",
    "    \"Số vụ án và số bị can đã bị khởi tố phân theo địa phương chia theo Địa phương, Năm và Chỉ tiêu\",\n",
    "    \n",
    "]\n",
    "antt = [normalize_column(i) for i in antt]"
   ]
  },
  {
   "cell_type": "code",
   "execution_count": 303,
   "id": "68769d19-4d7c-456f-836b-8874544631c6",
   "metadata": {},
   "outputs": [],
   "source": [
    "antt_df = df[df.Main_Feature.isin(antt)]"
   ]
  },
  {
   "cell_type": "code",
   "execution_count": 306,
   "id": "96c95240-ca4c-4254-9db0-3ca63f90d243",
   "metadata": {},
   "outputs": [
    {
     "data": {
      "text/plain": [
       "array(['Một số chỉ tiêu về tai nạn giao thông phân theo địa phương chia theo Địa phương, Năm và Chỉ tiêu',\n",
       "       'Một số chỉ tiêu về vụ cháy, nổ phân theo địa phương chia theo Địa phương, Năm và Chỉ tiêu',\n",
       "       'Số vụ án và số bị can đã bị khởi tố phân theo địa phương chia theo Địa phương, Năm và Chỉ tiêu',\n",
       "       'Số vụ án và bị cáo đã xét xử sở thẩm phân theo địa phương chia theo Địa phương, Năm và Chỉ tiêu'],\n",
       "      dtype=object)"
      ]
     },
     "execution_count": 306,
     "metadata": {},
     "output_type": "execute_result"
    }
   ],
   "source": [
    "antt_df.Main_Feature.unique()"
   ]
  },
  {
   "cell_type": "code",
   "execution_count": 307,
   "id": "e7bcfea8-8afb-415d-80ce-982f32847247",
   "metadata": {},
   "outputs": [],
   "source": [
    "antt_df.to_csv(\"antt_metric.csv\", index=False)"
   ]
  },
  {
   "cell_type": "markdown",
   "id": "171d6887-bcca-44ae-b90b-750b310a935a",
   "metadata": {
    "jp-MarkdownHeadingCollapsed": true,
    "tags": []
   },
   "source": [
    "## Lao động - Việc làm - Thu nhập"
   ]
  },
  {
   "cell_type": "code",
   "execution_count": 349,
   "id": "e9e59ba5-eafc-42b2-9cc7-ceaa006f03d6",
   "metadata": {},
   "outputs": [],
   "source": [
    "lvt = [\n",
    "    \"Thu nhập bình quân đầu người một tháng theo giá hiện hành phân theo địa phương chia theo Địa phương\",\n",
    "    \"Thu nhập bình quân đầu người một tháng theo giá hiện hành phân theo trungn bình 5 nhóm thu nhập và phân theo địa phương chia theo Địa phương, Nhóm thu nhập và Năm\",\n",
    "    \"Thu nhập bình quân đầu người một tháng (Nghìn đồng) - Nhóm thu nhập thấp nhất\",\n",
    "    \"Thu nhập bình quân đầu người một tháng (Nghìn đồng) - Nhóm thu nhập cao nhất\",\n",
    "    \"Thu nhập bình quân một lao động đang làm việc\",\n",
    "    \"Hệ số bất bình đẳng trong phân phối thu nhập (hệ số GINI) phân theo địa phương chia theo Địa phương và Năm\",\n",
    "    \"Tỷ lệ hộ nghèo phân theo địa phương chia theo Địa phương và Năm\",\n",
    "    \"Tỷ suất nhập cư, xuất cư và di cư thuần phân theo địa phương chia theo Tỉnh-Thành phố, Tỷ suất và Năm\",\n",
    "    \"Lực lượng lao động từ 15 tuổi trở lên phân theo địa phương chia theo Địa phương và Năm\",\n",
    "    \"Tỷ lệ thiếu việc làm trong độ tuổi lao động phân theo địa phương. Đơn vị tính\",\n",
    "    \"Số lao động có việc làm trong nền kinh tế phân theo địa phương. Đơn vị tính Nghìn người\",\n",
    "    \"Tỷ lệ lao động có việc làm phi chính thức phân theo địa phương. Đơn vị tính\",\n",
    "    \"Tỷ lệ thất nghiệp trong độ tuổi lao động phân theo địa phương. Đơn vị tính\",\n",
    "    \"Năng suất lao động phân theo địa phương. Đơn vị tính Triệu đồngngười\",\n",
    "    \"Tỷ lệ lao động từ 15 tuổi trở lên đã qua đào tạo phân theo địa phương. Đơn vị tính\",\n",
    "    \"Chỉ số phát triển con người phân theo địa phương\"\n",
    "]\n",
    "lvt = [normalize_column(i) for i in lvt]\n",
    "lvt = np.array(lvt)"
   ]
  },
  {
   "cell_type": "code",
   "execution_count": 350,
   "id": "d84cd262-5e89-4729-a6e8-569ed5566221",
   "metadata": {},
   "outputs": [],
   "source": [
    "lvt_df = df[df.Main_Feature.isin(lvt)]"
   ]
  },
  {
   "cell_type": "code",
   "execution_count": 351,
   "id": "859ae392-a8ef-498b-ab14-5a5855d98f35",
   "metadata": {},
   "outputs": [
    {
     "data": {
      "text/plain": [
       "array([], dtype='<U196')"
      ]
     },
     "execution_count": 351,
     "metadata": {},
     "output_type": "execute_result"
    }
   ],
   "source": [
    "np.setdiff1d(lvt, lvt_df.Main_Feature.unique())"
   ]
  },
  {
   "cell_type": "code",
   "execution_count": 354,
   "id": "4ddcc8e1-0eae-49da-b2da-0af5838496dd",
   "metadata": {},
   "outputs": [],
   "source": [
    "lvt_df.to_csv(\"lvt_metric.csv\", index=False)"
   ]
  },
  {
   "cell_type": "code",
   "execution_count": null,
   "id": "2758c62f-f0f5-4838-bfa8-f01bcf79657b",
   "metadata": {},
   "outputs": [],
   "source": []
  },
  {
   "cell_type": "markdown",
   "id": "b9d75e4b-2a04-4ca0-9f65-637d56801d89",
   "metadata": {
    "jp-MarkdownHeadingCollapsed": true,
    "tags": []
   },
   "source": [
    "## Chất lượng cuộc sống"
   ]
  },
  {
   "cell_type": "code",
   "execution_count": 355,
   "id": "d9786328-dc87-451b-93d6-8c6a6314220d",
   "metadata": {},
   "outputs": [],
   "source": [
    "clcc = [\n",
    "    \"Tỷ lệ dân số đô thị được cung cấp nước sạch qua hệ thống cấp nước tập trung phân theo địa phương() chia theo Địa phương và Năm(khó)\",\n",
    "    \"Tỷ lệ dân số dùng hố xí hợp vệ sinhphân theo địa phương chia theo Địa phương và Năm\",\n",
    "    \"Tỷ lệ hộ dùng điện sinh hoạt phân theo địa phương chia theo Địa phương và Năm\",\n",
    "    \"Tỷ lệ dân số được sử dụng nguồn nước hợp vệ sinh phân theo địa phương\",\n",
    "    \"Tỷ lệ dân số từ 15 tuổi trở lên biết chữ phân theo địa phương chia theo Địa phương và Năm\",\n",
    "    \"Chỉ số phát triển con người phân theo địa phương\",\n",
    "    \"Tỷ lệ hộ có nhà ở phân theo loại nhà và phân theo địa phương chia theo Địa phương, Năm và Loại nhà\"\n",
    "]\n",
    "clcc = [normalize_column(i) for i in clcc]\n",
    "clcc = np.array(clcc)"
   ]
  },
  {
   "cell_type": "code",
   "execution_count": 356,
   "id": "9f96eef7-e099-4c6e-a6f1-066ad7197b5c",
   "metadata": {},
   "outputs": [],
   "source": [
    "clcc_df = df[df.Main_Feature.isin(clcc)]"
   ]
  },
  {
   "cell_type": "code",
   "execution_count": 357,
   "id": "d92cba1f-69f9-43e9-aabf-397fdaab39b3",
   "metadata": {},
   "outputs": [
    {
     "data": {
      "text/plain": [
       "array([], dtype='<U169')"
      ]
     },
     "execution_count": 357,
     "metadata": {},
     "output_type": "execute_result"
    }
   ],
   "source": [
    "np.setdiff1d(clcc, clcc_df.Main_Feature.unique())"
   ]
  },
  {
   "cell_type": "code",
   "execution_count": 359,
   "id": "cda1082d-401a-4947-ae16-3d67576b7412",
   "metadata": {},
   "outputs": [],
   "source": [
    "clcc_df.to_csv(\"clcc_metric.csv\", index=False)"
   ]
  }
 ],
 "metadata": {
  "kernelspec": {
   "display_name": "Python 3 (ipykernel)",
   "language": "python",
   "name": "python3"
  },
  "language_info": {
   "codemirror_mode": {
    "name": "ipython",
    "version": 3
   },
   "file_extension": ".py",
   "mimetype": "text/x-python",
   "name": "python",
   "nbconvert_exporter": "python",
   "pygments_lexer": "ipython3",
   "version": "3.10.9"
  }
 },
 "nbformat": 4,
 "nbformat_minor": 5
}
